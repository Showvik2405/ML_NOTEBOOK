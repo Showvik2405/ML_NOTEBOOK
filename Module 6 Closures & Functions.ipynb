{
 "cells": [
  {
   "cell_type": "markdown",
   "id": "d7b16f20-b7de-43ab-904f-fcb66681eeaf",
   "metadata": {},
   "source": [
    "# Module 6: Closures & Functions\n",
    "This module discusses several important topics in Python, including the range() function, *args and **kwargs, closures, decorators, and various functional programming tools such as map(), filter(), reduce()."
   ]
  },
  {
   "cell_type": "markdown",
   "id": "db0bb9ed-4fef-42d1-92f0-3a6074581e6b",
   "metadata": {},
   "source": [
    "# 1. Python range() Function\n",
    "The range() function is used to generate sequences of numbers, typically for iteration in loops. It takes three arguments: start, stop, and step.\n",
    "\n",
    "start: The first value in the range (inclusive).\n",
    "stop: The value at which the range ends (exclusive).\n",
    "step: The difference between each number in the range (default is 1)."
   ]
  },
  {
   "cell_type": "code",
   "execution_count": 1,
   "id": "3e52abe7-4f0c-4586-ab3b-70c32fab565f",
   "metadata": {},
   "outputs": [
    {
     "name": "stdout",
     "output_type": "stream",
     "text": [
      "1\n",
      "3\n",
      "5\n",
      "7\n",
      "9\n"
     ]
    }
   ],
   "source": [
    "# Generating numbers from 1 to 10 with a step of 2\n",
    "for num in range(1, 10, 2):\n",
    "    print(num)\n"
   ]
  },
  {
   "cell_type": "markdown",
   "id": "17416fe4-bb32-4e68-894a-58ace5f003f4",
   "metadata": {},
   "source": [
    "You can use the range() function to generate number sequences that are useful in for loops or anywhere you need a sequence of numbers."
   ]
  },
  {
   "cell_type": "markdown",
   "id": "91af1fda-c7c0-404f-a0e0-f85c6c2b9d01",
   "metadata": {},
   "source": [
    "# 2. *args and **kwargs in Python Functions\n",
    "*args allows a function to accept a variable number of positional arguments. It collects all the extra arguments passed to the function into a tuple.\n",
    "**kwargs allows a function to accept a variable number of keyword arguments. It collects these into a dictionary."
   ]
  },
  {
   "cell_type": "code",
   "execution_count": 9,
   "id": "499fd2db-0383-4a50-971f-fc13c47bdde6",
   "metadata": {},
   "outputs": [
    {
     "name": "stdout",
     "output_type": "stream",
     "text": [
      "[2, 5, 7, 1]\n",
      "2 5 7 1\n"
     ]
    }
   ],
   "source": [
    "nums= [2, 5, 7, 1]\n",
    "print(nums)\n",
    "print(*nums)"
   ]
  },
  {
   "cell_type": "code",
   "execution_count": 3,
   "id": "384d5208-fdb2-40e3-a845-77b410b885a4",
   "metadata": {},
   "outputs": [
    {
     "name": "stdout",
     "output_type": "stream",
     "text": [
      "Ordered a large pizza.\n"
     ]
    }
   ],
   "source": [
    "def order_pizza(size):\n",
    "    print(f\"Ordered a {size} pizza.\")\n",
    "\n",
    "order_pizza(\"large\")"
   ]
  },
  {
   "cell_type": "code",
   "execution_count": 4,
   "id": "aad3c8c0-a51a-47b2-bd96-107cd3a25c5f",
   "metadata": {},
   "outputs": [
    {
     "name": "stdout",
     "output_type": "stream",
     "text": [
      "Ordered a large pizza with the following toppings:\n",
      "- pepperoni\n",
      "- olives\n"
     ]
    }
   ],
   "source": [
    "def order_pizza(size, *toppings):\n",
    "    print(f\"Ordered a {size} pizza with the following toppings:\")\n",
    "    for topping in toppings:\n",
    "        print(f\"- {topping}\")\n",
    "\n",
    "order_pizza(\"large\", \"pepperoni\", \"olives\")"
   ]
  },
  {
   "cell_type": "code",
   "execution_count": 2,
   "id": "a6732ccc-1c58-4888-8863-0780dbf5384a",
   "metadata": {},
   "outputs": [
    {
     "name": "stdout",
     "output_type": "stream",
     "text": [
      "(1, 2, 3, 4, 5)\n"
     ]
    }
   ],
   "source": [
    "def print_args(*args):\n",
    "    print(args)\n",
    "\n",
    "print_args(1, 2, 3, 4, 5)  # Output: (1, 2, 3, 4, 5)\n"
   ]
  },
  {
   "cell_type": "markdown",
   "id": "81b8ec99-da37-487f-9630-9c0e8b0c8c92",
   "metadata": {},
   "source": [
    "# **kwargs in Python Functions"
   ]
  },
  {
   "cell_type": "code",
   "execution_count": 7,
   "id": "40e34abb-d37c-4f21-9f37-f014a25c285d",
   "metadata": {},
   "outputs": [
    {
     "name": "stdout",
     "output_type": "stream",
     "text": [
      "Ordered a large pizza with the following toppings:\n",
      "- pepperoni\n",
      "- olives\n",
      "{'delivery': True, 'tip': 10}\n"
     ]
    }
   ],
   "source": [
    "def order_pizza(size, *toppings, **details):\n",
    "    print(f\"Ordered a {size} pizza with the following toppings:\")\n",
    "    for topping in toppings:\n",
    "        print(f\"- {topping}\")\n",
    "    print(details)\n",
    "\n",
    "order_pizza(\"large\", \"pepperoni\", \"olives\", delivery=True, tip= 10)"
   ]
  },
  {
   "cell_type": "code",
   "execution_count": 8,
   "id": "976a736f-8826-4289-9d81-aae3681e6736",
   "metadata": {},
   "outputs": [
    {
     "name": "stdout",
     "output_type": "stream",
     "text": [
      "Ordered a large pizza with the following toppings:\n",
      "- pepperoni\n",
      "- olives\n",
      "\n",
      "Details of the order are:\n",
      "- delivery: True\n",
      "- tip: 10\n"
     ]
    }
   ],
   "source": [
    "def order_pizza(size, *toppings, **details):\n",
    "    print(f\"Ordered a {size} pizza with the following toppings:\")\n",
    "    for topping in toppings:\n",
    "        print(f\"- {topping}\")\n",
    "    print(\"\\nDetails of the order are:\")\n",
    "    for key, value in details.items():\n",
    "        print(f\"- {key}: {value}\")\n",
    "\n",
    "order_pizza(\"large\", \"pepperoni\", \"olives\", delivery=True, tip= 10)"
   ]
  },
  {
   "cell_type": "code",
   "execution_count": 3,
   "id": "b9f0d8fa-236e-4265-99a9-6c59a73cd1b3",
   "metadata": {},
   "outputs": [
    {
     "name": "stdout",
     "output_type": "stream",
     "text": [
      "{'name': 'Alice', 'age': 25}\n"
     ]
    }
   ],
   "source": [
    "def print_kwargs(**kwargs):\n",
    "    print(kwargs)\n",
    "\n",
    "print_kwargs(name='Alice', age=25)  # Output: {'name': 'Alice', 'age': 25}\n"
   ]
  },
  {
   "cell_type": "markdown",
   "id": "3251188c-cffc-4c83-ad68-354ae5a3e780",
   "metadata": {},
   "source": [
    "These features allow you to write more flexible and dynamic functions that can handle varying numbers of arguments."
   ]
  },
  {
   "cell_type": "markdown",
   "id": "dfd860f1-4fd9-4c04-8867-41efffcf8ab2",
   "metadata": {},
   "source": [
    "# 3. Python Closures\n",
    "A closure is a function that captures the local variables from its enclosing scope, even after the outer function has finished executing. This allows the inner function to continue accessing those variables."
   ]
  },
  {
   "cell_type": "code",
   "execution_count": 2,
   "id": "b15f9c87-5026-40fa-89c7-cbe0df703e61",
   "metadata": {},
   "outputs": [
    {
     "name": "stdout",
     "output_type": "stream",
     "text": [
      "Closure Output: 15\n"
     ]
    }
   ],
   "source": [
    "def outer_function(outer_var):\n",
    "    # This is the outer function\n",
    "    def inner_function(inner_var):\n",
    "        # This is the inner function\n",
    "        return outer_var + inner_var  # inner function uses outer function's variable\n",
    "    return inner_function  # Return the inner function\n",
    "\n",
    "# Creating a closure\n",
    "closure_example = outer_function(10)\n",
    "\n",
    "# Calling the closure\n",
    "result = closure_example(5)\n",
    "print(\"Closure Output:\", result)  # Output: 15\n"
   ]
  },
  {
   "cell_type": "markdown",
   "id": "5d1adb5c-5d36-4bda-ac32-0479125fe5d9",
   "metadata": {},
   "source": [
    "In this example, the inner_function captures outer_var from outer_function and uses it even after outer_function has finished execution."
   ]
  },
  {
   "cell_type": "markdown",
   "id": "bf64aeec-eb53-4f75-8e27-0401b7396d16",
   "metadata": {},
   "source": [
    "# 4. Python self as a Default Argument\n",
    "In Python, self is a reference to the current instance of the class. It is used to access instance variables and methods. You can also use self as a default argument for methods, making them more flexible."
   ]
  },
  {
   "cell_type": "code",
   "execution_count": 5,
   "id": "267638bb-31c2-40c6-9534-cdb89dec645c",
   "metadata": {},
   "outputs": [
    {
     "name": "stdout",
     "output_type": "stream",
     "text": [
      "Hello, User!\n",
      "Hello, Alice!\n"
     ]
    }
   ],
   "source": [
    "class MyClass:\n",
    "    def greet(self, name='User'):\n",
    "        print(f'Hello, {name}!')\n",
    "\n",
    "obj = MyClass()\n",
    "obj.greet()  # Output: Hello, User!\n",
    "obj.greet('Alice')  # Output: Hello, Alice!\n"
   ]
  },
  {
   "cell_type": "markdown",
   "id": "b4dad249-e9cb-432d-97bf-3b39768cca55",
   "metadata": {},
   "source": [
    "Here, the greet method has a default argument (name='User'). If no argument is passed, it defaults to 'User'."
   ]
  },
  {
   "cell_type": "markdown",
   "id": "1e86612b-3488-48c6-b8ff-03f31e0329ff",
   "metadata": {},
   "source": [
    "# 5. Decorators in Python\n",
    "A decorator is a function that allows you to modify the behavior of another function. It is a powerful tool used to extend the functionality of functions or methods without modifying their structure.\n",
    "\n"
   ]
  },
  {
   "cell_type": "code",
   "execution_count": 5,
   "id": "42a11681-df2c-4a56-a730-66fd988636d6",
   "metadata": {},
   "outputs": [
    {
     "name": "stdout",
     "output_type": "stream",
     "text": [
      "Before function call\n",
      "Hello!\n",
      "After function call\n"
     ]
    }
   ],
   "source": [
    "def decorator_function(func):\n",
    "    def wrapper():\n",
    "        print('Before function call')\n",
    "        func()\n",
    "        print('After function call')\n",
    "    return wrapper\n",
    "\n",
    "@decorator_function\n",
    "def say_hellooo():\n",
    "    print('Hello!')\n",
    "say_hellooo()\n"
   ]
  },
  {
   "cell_type": "markdown",
   "id": "2a1c2f10-8a46-492e-bce7-bf3122188190",
   "metadata": {},
   "source": [
    "Here, decorator_function wraps the say_hello function to add behavior before and after the function is called."
   ]
  },
  {
   "cell_type": "raw",
   "id": "c25fabbf-3621-47ab-8431-cf95c6bf22eb",
   "metadata": {},
   "source": [
    "@my_decorator is syntactic sugar for:\n",
    "say_hello = my_decorator(say_hello)"
   ]
  },
  {
   "cell_type": "markdown",
   "id": "1621ed6f-6fa2-4805-a439-750b5f1033d5",
   "metadata": {},
   "source": [
    "# 6. Map, Filter, Reduce Functions\n",
    "## 1. map() Function\n",
    "The map() function takes two arguments:\n",
    "\n",
    "A function to apply to each item in an iterable.\n",
    "The iterable itself (list, tuple, etc.).\n",
    "The map() function returns an iterator that applies the function to each item of the iterable and produces a transformed sequence.\n",
    "\n",
    "Syntax:\n",
    "map(function, iterable)\n",
    "\n"
   ]
  },
  {
   "cell_type": "code",
   "execution_count": 12,
   "id": "eb79b19c-c083-4b67-9b27-0f2a43c8c244",
   "metadata": {},
   "outputs": [
    {
     "name": "stdout",
     "output_type": "stream",
     "text": [
      "[1, 4, 9, 16, 25]\n"
     ]
    }
   ],
   "source": [
    "numbers = [1, 2, 3, 4, 5]\n",
    "squared_numbers = list(map(lambda x: x**2, numbers))\n",
    "print(squared_numbers)  # Output: [1, 4, 9, 16, 25]\n"
   ]
  },
  {
   "cell_type": "code",
   "execution_count": 13,
   "id": "c5efd93a-0acd-4bf4-95be-126b8e955750",
   "metadata": {},
   "outputs": [
    {
     "name": "stdout",
     "output_type": "stream",
     "text": [
      "[32.0, 50.0, 68.0, 86.0, 104.0]\n"
     ]
    }
   ],
   "source": [
    "temperatures_celsius = [0, 10, 20, 30, 40]\n",
    "temperatures_fahrenheit = list(map(lambda celsius: (celsius * 9/5) + 32, temperatures_celsius))\n",
    "print(temperatures_fahrenheit)  # Output: [32.0, 50.0, 68.0, 86.0, 104.0]\n"
   ]
  },
  {
   "cell_type": "markdown",
   "id": "8b3b401b-d1c6-469e-95a0-c3a6ad8a27cd",
   "metadata": {},
   "source": [
    "## 2. filter() Function\n",
    "The filter() function filters elements from an iterable based on a condition provided by a function. The function should return either True or False for each item in the iterable.\n",
    "\n",
    "Syntax:\n",
    "\n",
    "filter(function, iterable)"
   ]
  },
  {
   "cell_type": "code",
   "execution_count": 14,
   "id": "a7d362b5-bc37-44dc-8453-4d667b0c24a3",
   "metadata": {},
   "outputs": [
    {
     "name": "stdout",
     "output_type": "stream",
     "text": [
      "[2, 4, 6, 8]\n"
     ]
    }
   ],
   "source": [
    "numbers = [1, 2, 3, 4, 5, 6, 7, 8, 9]\n",
    "even_numbers = list(filter(lambda x: x % 2 == 0, numbers))\n",
    "print(even_numbers)  # Output: [2, 4, 6, 8]\n"
   ]
  },
  {
   "cell_type": "code",
   "execution_count": 15,
   "id": "6e0d2685-0b1f-4940-88ae-e98f3d602333",
   "metadata": {},
   "outputs": [
    {
     "name": "stdout",
     "output_type": "stream",
     "text": [
      "['python', 'functional', 'programming']\n"
     ]
    }
   ],
   "source": [
    "words = [\"hello\", \"world\", \"python\", \"functional\", \"programming\"]\n",
    "long_words = list(filter(lambda word: len(word) > 5, words))\n",
    "print(long_words)  # Output: ['python', 'functional', 'programming']\n"
   ]
  },
  {
   "cell_type": "code",
   "execution_count": 16,
   "id": "a2c3acdb-b599-475d-a058-a6b3aa6012c5",
   "metadata": {},
   "outputs": [
    {
     "name": "stdout",
     "output_type": "stream",
     "text": [
      "['apple', 'orange']\n"
     ]
    }
   ],
   "source": [
    "words = [\"apple\", \"banana\", \"orange\", \"grape\", \"kiwi\"]\n",
    "vowel_words = list(filter(lambda word: word[0].lower() in 'aeiou', words))\n",
    "print(vowel_words)  # Output: ['apple', 'orange']\n"
   ]
  },
  {
   "cell_type": "markdown",
   "id": "00a18e31-5e0a-49da-8779-d12b26806a4a",
   "metadata": {},
   "source": [
    "## 3. reduce() Function\n",
    "The reduce() function from the functools module performs a cumulative reduction of the iterable using a binary function (a function that takes two arguments). It applies the function cumulatively to the items of the iterable, reducing them to a single value.\n",
    "\n",
    "Syntax:\n",
    "from functools import reduce\n",
    "reduce(function, iterable)"
   ]
  },
  {
   "cell_type": "code",
   "execution_count": 8,
   "id": "540a067e-72a0-434e-b961-49148296f466",
   "metadata": {},
   "outputs": [
    {
     "name": "stdout",
     "output_type": "stream",
     "text": [
      "24\n"
     ]
    }
   ],
   "source": [
    "from functools import reduce\n",
    "numbers = [1, 2, 3, 4]\n",
    "product = reduce(lambda x, y: x * y, numbers)\n",
    "print(product)  # Output: 24\n"
   ]
  },
  {
   "cell_type": "code",
   "execution_count": 21,
   "id": "8be37c06-ec87-491b-95c9-74ddbb1d2b3c",
   "metadata": {},
   "outputs": [
    {
     "name": "stdout",
     "output_type": "stream",
     "text": [
      "5\n"
     ]
    }
   ],
   "source": [
    "numbers = [3, 1, 5, 2, 4]\n",
    "max_number = reduce(lambda x, y: x if x > y else y, numbers)\n",
    "print(max_number)  # Output: 5\n"
   ]
  },
  {
   "cell_type": "code",
   "execution_count": 22,
   "id": "1c06fefa-4625-4e15-8d9e-0a94ed74b163",
   "metadata": {},
   "outputs": [
    {
     "name": "stdout",
     "output_type": "stream",
     "text": [
      "Hello World!\n"
     ]
    }
   ],
   "source": [
    "words = [\"Hello\", \" \", \"World\", \"!\"]\n",
    "sentence = reduce(lambda x, y: x + y, words)\n",
    "print(sentence)  # Output: 'Hello World!'\n"
   ]
  },
  {
   "cell_type": "code",
   "execution_count": null,
   "id": "c2a266b7-3b97-44cc-8f8b-c497096ca317",
   "metadata": {},
   "outputs": [],
   "source": []
  }
 ],
 "metadata": {
  "kernelspec": {
   "display_name": "Python 3 (ipykernel)",
   "language": "python",
   "name": "python3"
  },
  "language_info": {
   "codemirror_mode": {
    "name": "ipython",
    "version": 3
   },
   "file_extension": ".py",
   "mimetype": "text/x-python",
   "name": "python",
   "nbconvert_exporter": "python",
   "pygments_lexer": "ipython3",
   "version": "3.11.7"
  }
 },
 "nbformat": 4,
 "nbformat_minor": 5
}
